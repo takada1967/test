{
  "nbformat": 4,
  "nbformat_minor": 0,
  "metadata": {
    "kernelspec": {
      "display_name": "Python 3",
      "language": "python",
      "name": "python3"
    },
    "language_info": {
      "codemirror_mode": {
        "name": "ipython",
        "version": 3
      },
      "file_extension": ".py",
      "mimetype": "text/x-python",
      "name": "python",
      "nbconvert_exporter": "python",
      "pygments_lexer": "ipython3",
      "version": "3.7.3"
    },
    "colab": {
      "name": "3.2.1_demand taxi kalman_filter.ipynb ",
      "provenance": [],
      "collapsed_sections": [],
      "include_colab_link": true
    }
  },
  "cells": [
    {
      "cell_type": "markdown",
      "metadata": {
        "id": "view-in-github",
        "colab_type": "text"
      },
      "source": [
        "<a href=\"https://colab.research.google.com/github/takada1967/test/blob/master/3_2_1_demand_taxi_kalman_filter.ipynb\" target=\"_parent\"><img src=\"https://colab.research.google.com/assets/colab-badge.svg\" alt=\"Open In Colab\"/></a>"
      ]
    },
    {
      "cell_type": "code",
      "metadata": {
        "colab": {
          "base_uri": "https://localhost:8080/"
        },
        "id": "QxCVZS73UbgB",
        "outputId": "cc333815-1d82-434a-f56b-4656981cc7a3"
      },
      "source": [
        "# Install PyKalman (https://pykalman.github.io/)\r\n",
        "!pip install pykalman --quiet"
      ],
      "execution_count": null,
      "outputs": [
        {
          "output_type": "stream",
          "text": [
            "\u001b[?25l\r\u001b[K     |█▍                              | 10kB 18.7MB/s eta 0:00:01\r\u001b[K     |██▉                             | 20kB 24.3MB/s eta 0:00:01\r\u001b[K     |████▎                           | 30kB 12.4MB/s eta 0:00:01\r\u001b[K     |█████▊                          | 40kB 9.4MB/s eta 0:00:01\r\u001b[K     |███████▏                        | 51kB 4.5MB/s eta 0:00:01\r\u001b[K     |████████▋                       | 61kB 4.7MB/s eta 0:00:01\r\u001b[K     |██████████                      | 71kB 5.1MB/s eta 0:00:01\r\u001b[K     |███████████▌                    | 81kB 5.1MB/s eta 0:00:01\r\u001b[K     |████████████▉                   | 92kB 5.6MB/s eta 0:00:01\r\u001b[K     |██████████████▎                 | 102kB 5.7MB/s eta 0:00:01\r\u001b[K     |███████████████▊                | 112kB 5.7MB/s eta 0:00:01\r\u001b[K     |█████████████████▏              | 122kB 5.7MB/s eta 0:00:01\r\u001b[K     |██████████████████▋             | 133kB 5.7MB/s eta 0:00:01\r\u001b[K     |████████████████████            | 143kB 5.7MB/s eta 0:00:01\r\u001b[K     |█████████████████████▌          | 153kB 5.7MB/s eta 0:00:01\r\u001b[K     |███████████████████████         | 163kB 5.7MB/s eta 0:00:01\r\u001b[K     |████████████████████████▍       | 174kB 5.7MB/s eta 0:00:01\r\u001b[K     |█████████████████████████▊      | 184kB 5.7MB/s eta 0:00:01\r\u001b[K     |███████████████████████████▏    | 194kB 5.7MB/s eta 0:00:01\r\u001b[K     |████████████████████████████▋   | 204kB 5.7MB/s eta 0:00:01\r\u001b[K     |██████████████████████████████  | 215kB 5.7MB/s eta 0:00:01\r\u001b[K     |███████████████████████████████▌| 225kB 5.7MB/s eta 0:00:01\r\u001b[K     |████████████████████████████████| 235kB 5.7MB/s \n",
            "\u001b[?25h  Building wheel for pykalman (setup.py) ... \u001b[?25l\u001b[?25hdone\n"
          ],
          "name": "stdout"
        }
      ]
    },
    {
      "cell_type": "code",
      "metadata": {
        "id": "5qoY0B-bTvWP"
      },
      "source": [
        "%matplotlib inline\n",
        "import numpy as np\n",
        "np.random.seed(555)\n",
        "import matplotlib.pyplot as plt\n",
        "import seaborn as sns\n",
        "import pandas as pd"
      ],
      "execution_count": null,
      "outputs": []
    },
    {
      "cell_type": "code",
      "metadata": {
        "id": "-jNzvJV1TvWU"
      },
      "source": [
        "import statsmodels as sm\n",
        "from statsmodels.graphics import tsaplots\n",
        "from statsmodels.tsa import stattools\n",
        "from pykalman import KalmanFilter"
      ],
      "execution_count": null,
      "outputs": []
    },
    {
      "cell_type": "code",
      "metadata": {
        "id": "c6sK8S-TTvWV",
        "colab": {
          "base_uri": "https://localhost:8080/"
        },
        "outputId": "cd02ec24-5253-4116-c15a-1a32abfe54b5"
      },
      "source": [
        "import requests\n",
        "import io\n",
        "\n",
        "# 月ごとの飛行機の乗客数データ\n",
        "df_content = pd.read_csv('/content/drive/MyDrive/Colab Notebooks/時系列解析/chapter03/monthly demands.csv')\n",
        "print(df_content)\n",
        "\n",
        "df_content['Month'] = pd.to_datetime(df_content['Month'], infer_datetime_format=True)\n",
        "y = pd.Series(df_content[\"#Demands\"].values, index=df_content['Month'])\n",
        "y = y.astype('f')"
      ],
      "execution_count": null,
      "outputs": [
        {
          "output_type": "stream",
          "text": [
            "      Month  #Demands\n",
            "0   2015/12      3407\n",
            "1   2016/01      3864\n",
            "2   2016/02      4617\n",
            "3   2016/03      4565\n",
            "4   2016/04      5285\n",
            "5   2016/05      5148\n",
            "6   2016/06      6300\n",
            "7   2016/07      6454\n",
            "8   2016/08      6300\n",
            "9   2016/09      6339\n",
            "10  2016/10      6264\n",
            "11  2016/11      6305\n",
            "12  2016/12      6339\n",
            "13  2017/01      5766\n",
            "14  2017/02      5939\n",
            "15  2017/03      6809\n",
            "16  2017/04      6383\n",
            "17  2017/05      6626\n",
            "18  2017/06      7153\n",
            "19  2017/07      7489\n",
            "20  2017/08      7456\n",
            "21  2017/09      7069\n",
            "22  2017/10      7750\n",
            "23  2017/11      6939\n",
            "24  2017/12      7373\n",
            "25  2018/01      6824\n",
            "26  2018/02      6925\n",
            "27  2018/03      7910\n",
            "28  2018/04      7606\n",
            "29  2018/05      7647\n",
            "30  2018/06      8704\n",
            "31  2018/07      9303\n",
            "32  2018/08      9216\n",
            "33  2018/09      8172\n",
            "34  2018/10      8743\n",
            "35  2018/11      7943\n",
            "36  2018/12      7968\n",
            "37  2019/01      7092\n",
            "38  2019/02      7374\n",
            "39  2019/03      8056\n",
            "40  2019/04      8157\n",
            "41  2019/05      7728\n",
            "42  2019/06      8383\n",
            "43  2019/07      9006\n",
            "44  2019/08      8970\n",
            "45  2019/09      8248\n",
            "46  2019/10      8211\n",
            "47  2019/11      7932\n",
            "48  2019/12      8178\n",
            "49  2020/01      7340\n",
            "50  2020/02      6585\n",
            "51  2020/03      5998\n",
            "52  2020/04      4562\n",
            "53  2020/05      4377\n",
            "54  2020/06      6793\n",
            "55  2020/07      6208\n",
            "56  2020/08      5994\n"
          ],
          "name": "stdout"
        }
      ]
    },
    {
      "cell_type": "code",
      "metadata": {
        "colab": {
          "base_uri": "https://localhost:8080/"
        },
        "id": "mqODBNbpYZN5",
        "outputId": "3746d72b-2e1f-4ccb-8cff-2948616bada5"
      },
      "source": [
        "from google.colab import drive\n",
        "drive.mount('/content/drive')"
      ],
      "execution_count": null,
      "outputs": [
        {
          "output_type": "stream",
          "text": [
            "Drive already mounted at /content/drive; to attempt to forcibly remount, call drive.mount(\"/content/drive\", force_remount=True).\n"
          ],
          "name": "stdout"
        }
      ]
    },
    {
      "cell_type": "code",
      "metadata": {
        "colab": {
          "base_uri": "https://localhost:8080/",
          "height": 296
        },
        "id": "M1kgu6G7TvWV",
        "outputId": "3087a07b-0087-4d71-ac24-6878b4f3cd93"
      },
      "source": [
        "y.plot()"
      ],
      "execution_count": null,
      "outputs": [
        {
          "output_type": "execute_result",
          "data": {
            "text/plain": [
              "<matplotlib.axes._subplots.AxesSubplot at 0x7f64964ef908>"
            ]
          },
          "metadata": {
            "tags": []
          },
          "execution_count": 12
        },
        {
          "output_type": "display_data",
          "data": {
            "image/png": "[encoded data removed]",
            "text/plain": [
              "<Figure size 432x288 with 1 Axes>"
            ]
          },
          "metadata": {
            "tags": [],
            "needs_background": "light"
          }
        }
      ]
    },
    {
      "cell_type": "code",
      "metadata": {
        "id": "nDwCjTSXTvWW"
      },
      "source": [
        "# 推移行列などの初期化\n",
        "def FGHset(n_dim_trend, n_dim_obs=1, n_dim_series=0, Q_sigma2=10):\n",
        "    n_dim_Q = (n_dim_trend!=0) + (n_dim_series!=0)\n",
        "    if n_dim_series>0:\n",
        "        n_dim_state = n_dim_trend + n_dim_series - 1\n",
        "    else:\n",
        "        n_dim_state = n_dim_trend\n",
        "    \n",
        "    # 行列の初期化\n",
        "    G = np.zeros((n_dim_state, n_dim_Q))\n",
        "    F = np.zeros((n_dim_state, n_dim_state))\n",
        "    H = np.zeros((n_dim_obs, n_dim_state))\n",
        "    Q = np.eye(n_dim_Q) * Q_sigma2\n",
        "  \n",
        "    # 各行列のトレンド成分に対するブロック行列を構築\n",
        "    G[0,0] = 1\n",
        "    H[0,0] = 1\n",
        "    \n",
        "    # トレンドモデルの推移行列の構築\n",
        "    # 非定常過程でも対応できる推移行列を構築 \n",
        "    if n_dim_trend==1: \n",
        "        F[0,0] = 1\n",
        "    elif n_dim_trend==2:\n",
        "        F[0,0] = 2\n",
        "        F[0,1] = -1\n",
        "        F[1,0] = 1\n",
        "    elif n_dim_trend==3:\n",
        "        F[0,0] = 3\n",
        "        F[0,1] = -3\n",
        "        F[0,2] = 1\n",
        "        F[1,0] = 1\n",
        "        F[2,1] = 1\n",
        "        \n",
        "    # PyKalmanのQはG.dot(Q).dot(G.T)を想定しているためQをupdate\n",
        "    Q = G.dot(Q).dot(G.T)\n",
        "    \n",
        "    return n_dim_state, F, H, Q"
      ],
      "execution_count": null,
      "outputs": []
    },
    {
      "cell_type": "code",
      "metadata": {
        "id": "yfPxY3uFTvWX"
      },
      "source": [
        "# 観測値の次元数\n",
        "n_dim_obs = 1\n",
        "# トレンドの次元数\n",
        "n_dim_trend = 2\n",
        "\n",
        "# 推移行列などの定義\n",
        "n_dim_state, F, H, Q = FGHset(n_dim_trend, n_dim_obs)"
      ],
      "execution_count": null,
      "outputs": []
    },
    {
      "cell_type": "code",
      "metadata": {
        "scrolled": true,
        "id": "JuATjSuHTvWX"
      },
      "source": [
        "# 状態の平均値ベクトルの初期値\n",
        "initial_state_mean = np.zeros(n_dim_state)\n",
        "# 状態の分散共分散行列の初期値\n",
        "initial_state_covariance = np.ones((n_dim_state, n_dim_state))\n",
        "\n",
        "# カルマンフィルタのモデル生成\n",
        "kf = KalmanFilter(\n",
        "    # l：観測値の次元数\n",
        "    n_dim_obs=n_dim_obs,\n",
        "    # k：状態の次元数\n",
        "    n_dim_state=n_dim_state,\n",
        "    # x_0：状態の平均値ベクトルの初期値（k次元）\n",
        "    initial_state_mean=initial_state_mean,\n",
        "    # V_0：状態の分散共分散行列の初期値（k×k次元）\n",
        "    initial_state_covariance=initial_state_covariance,\n",
        "    # F：推移行列（k×k次元）\n",
        "    transition_matrices=F,\n",
        "    # H：観測行列（l×k次元）\n",
        "    observation_matrices=H,\n",
        "    # R：観測ノイズwの分散共分散行列（l×l次元。観測値が一次元の場合はスカラ）\n",
        "    observation_covariance=1.0,\n",
        "    # Q：システムノイズvの分散共分散行列（m×m次元）\n",
        "    transition_covariance=Q)"
      ],
      "execution_count": null,
      "outputs": []
    },
    {
      "cell_type": "code",
      "metadata": {
        "scrolled": false,
        "id": "1PWZFlFUTvWX"
      },
      "source": [
        "# 前半48時点を学習データに121時点以降のデータを検証用に使用\n",
        "n_train = 36\n",
        "train, test = y.values[:n_train], y.values[n_train:]"
      ],
      "execution_count": null,
      "outputs": []
    },
    {
      "cell_type": "code",
      "metadata": {
        "id": "pYpP9J20TvWY"
      },
      "source": [
        "# filtered_state_means, filtered_state_covs = kf.filter(train)\n",
        "# pred_o = filtered_state_means.dot(H.T)"
      ],
      "execution_count": null,
      "outputs": []
    },
    {
      "cell_type": "code",
      "metadata": {
        "id": "XECFjbpATvWY"
      },
      "source": [
        "smoothed_state_means, smoothed_state_covs = kf.smooth(train)\n",
        "pred_o_smoothed = smoothed_state_means.dot(H.T)"
      ],
      "execution_count": null,
      "outputs": []
    },
    {
      "cell_type": "code",
      "metadata": {
        "colab": {
          "base_uri": "https://localhost:8080/",
          "height": 282
        },
        "id": "zsVPb2BLTvWY",
        "outputId": "f7d9607f-b3ab-437d-8d88-f97600282c5e"
      },
      "source": [
        "plt.plot(train, label=\"observation\")\n",
        "plt.plot(pred_o_smoothed, '--', label=\"predict\")"
      ],
      "execution_count": null,
      "outputs": [
        {
          "output_type": "execute_result",
          "data": {
            "text/plain": [
              "[<matplotlib.lines.Line2D at 0x7f6495e5a390>]"
            ]
          },
          "metadata": {
            "tags": []
          },
          "execution_count": 29
        },
        {
          "output_type": "display_data",
          "data": {
            "image/png": "[encoded data removed]",
            "text/plain": [
              "<Figure size 432x288 with 1 Axes>"
            ]
          },
          "metadata": {
            "tags": [],
            "needs_background": "light"
          }
        }
      ]
    },
    {
      "cell_type": "code",
      "metadata": {
        "colab": {
          "base_uri": "https://localhost:8080/",
          "height": 282
        },
        "id": "q32poZr-TvWZ",
        "outputId": "d06b128f-e00b-4a78-aefc-bd43eeca57f1"
      },
      "source": [
        "plt.plot(y.values, label=\"observation\")\n",
        "\n",
        "# 長期予測格納用のベクトルを用意（値は全て入れ替わるため0で初期化しなくてよい）\n",
        "pred_y = np.empty(len(test))\n",
        "\n",
        "# 現在の状態と分散共分散行列を取得\n",
        "current_state = smoothed_state_means[-1]\n",
        "current_cov = smoothed_state_covs[-1]\n",
        "for i in range(len(test)):\n",
        "    # filter_updateは観測値を入力しなければ1期先予測のみを実行する\n",
        "    current_state, current_cov = kf.filter_update(current_state, \n",
        "                                                  current_cov, \n",
        "                                                  observation=None)\n",
        "    pred_y[i] = kf.observation_matrices.dot(current_state)\n",
        "    \n",
        "# np.hstackはnp.concatenateでもよい\n",
        "plt.plot(np.hstack([pred_o_smoothed.flatten(), pred_y]), '--', label=\"forecast\")"
      ],
      "execution_count": null,
      "outputs": [
        {
          "output_type": "execute_result",
          "data": {
            "text/plain": [
              "[<matplotlib.lines.Line2D at 0x7f6495d66da0>]"
            ]
          },
          "metadata": {
            "tags": []
          },
          "execution_count": 30
        },
        {
          "output_type": "display_data",
          "data": {
            "image/png": "[encoded data removed]",
            "text/plain": [
              "<Figure size 432x288 with 1 Axes>"
            ]
          },
          "metadata": {
            "tags": [],
            "needs_background": "light"
          }
        }
      ]
    },
    {
      "cell_type": "code",
      "metadata": {
        "id": "3W2I1OIFTvWZ"
      },
      "source": [
        ""
      ],
      "execution_count": null,
      "outputs": []
    }
  ]
}